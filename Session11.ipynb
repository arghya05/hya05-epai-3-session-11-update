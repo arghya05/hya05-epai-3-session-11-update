{
 "cells": [
  {
   "cell_type": "code",
   "execution_count": 1,
   "metadata": {
    "id": "34RTdBUwytlp"
   },
   "outputs": [],
   "source": [
    "%matplotlib inline"
   ]
  },
  {
   "cell_type": "code",
   "execution_count": 2,
   "metadata": {
    "id": "LbWl7FjXyuXk"
   },
   "outputs": [],
   "source": [
    "from __future__ import unicode_literals, print_function, division\n",
    "from io import open\n",
    "import unicodedata\n",
    "import string\n",
    "import re\n",
    "import random\n",
    "\n",
    "import torch\n",
    "import torch.nn as nn\n",
    "from torch import optim\n",
    "import torch.nn.functional as F\n",
    "\n",
    "device = torch.device(\"cuda\" if torch.cuda.is_available() else \"cpu\")"
   ]
  },
  {
   "cell_type": "code",
   "execution_count": 3,
   "metadata": {
    "colab": {
     "base_uri": "https://localhost:8080/"
    },
    "id": "wSrYX91ryzBQ",
    "outputId": "3fd25b94-8c40-4bd1-ab15-f447cf81c601"
   },
   "outputs": [
    {
     "name": "stdout",
     "output_type": "stream",
     "text": [
      "--2021-07-24 16:57:00--  https://download.pytorch.org/tutorial/data.zip\n",
      "Resolving download.pytorch.org (download.pytorch.org)... 99.86.37.74, 99.86.37.37, 99.86.37.116, ...\n",
      "Connecting to download.pytorch.org (download.pytorch.org)|99.86.37.74|:443... connected.\n",
      "HTTP request sent, awaiting response... 200 OK\n",
      "Length: 2882130 (2.7M) [application/zip]\n",
      "Saving to: ‘data.zip’\n",
      "\n",
      "\r",
      "data.zip              0%[                    ]       0  --.-KB/s               \r",
      "data.zip            100%[===================>]   2.75M  --.-KB/s    in 0.08s   \n",
      "\n",
      "2021-07-24 16:57:01 (33.6 MB/s) - ‘data.zip’ saved [2882130/2882130]\n",
      "\n",
      "Archive:  data.zip\n",
      "   creating: data/\n",
      "  inflating: data/eng-fra.txt        \n",
      "   creating: data/names/\n",
      "  inflating: data/names/Arabic.txt   \n",
      "  inflating: data/names/Chinese.txt  \n",
      "  inflating: data/names/Czech.txt    \n",
      "  inflating: data/names/Dutch.txt    \n",
      "  inflating: data/names/English.txt  \n",
      "  inflating: data/names/French.txt   \n",
      "  inflating: data/names/German.txt   \n",
      "  inflating: data/names/Greek.txt    \n",
      "  inflating: data/names/Irish.txt    \n",
      "  inflating: data/names/Italian.txt  \n",
      "  inflating: data/names/Japanese.txt  \n",
      "  inflating: data/names/Korean.txt   \n",
      "  inflating: data/names/Polish.txt   \n",
      "  inflating: data/names/Portuguese.txt  \n",
      "  inflating: data/names/Russian.txt  \n",
      "  inflating: data/names/Scottish.txt  \n",
      "  inflating: data/names/Spanish.txt  \n",
      "  inflating: data/names/Vietnamese.txt  \n"
     ]
    }
   ],
   "source": [
    "!wget https://download.pytorch.org/tutorial/data.zip\n",
    "\n",
    "!unzip data.zip"
   ]
  },
  {
   "cell_type": "code",
   "execution_count": 4,
   "metadata": {
    "id": "Jr1H7iOdzzFL"
   },
   "outputs": [],
   "source": [
    "SOS_token = 0\n",
    "EOS_token = 1\n",
    "\n",
    "\n",
    "class Lang:\n",
    "    def __init__(self, name):\n",
    "        self.name = name\n",
    "        self.word2index = {}\n",
    "        self.word2count = {}\n",
    "        self.index2word = {0: \"SOS\", 1: \"EOS\"}\n",
    "        self.n_words = 2  # Count SOS and EOS\n",
    "\n",
    "    def addSentence(self, sentence):\n",
    "        for word in sentence.split(' '):\n",
    "            self.addWord(word)\n",
    "\n",
    "    def addWord(self, word):\n",
    "        if word not in self.word2index:\n",
    "            self.word2index[word] = self.n_words\n",
    "            self.word2count[word] = 1\n",
    "            self.index2word[self.n_words] = word\n",
    "            self.n_words += 1\n",
    "        else:\n",
    "            self.word2count[word] += 1"
   ]
  },
  {
   "cell_type": "code",
   "execution_count": 5,
   "metadata": {
    "id": "p0_cxSTDz1tc"
   },
   "outputs": [],
   "source": [
    "# Turn a Unicode string to plain ASCII, thanks to\n",
    "# https://stackoverflow.com/a/518232/2809427\n",
    "def unicodeToAscii(s):\n",
    "    return ''.join(\n",
    "        c for c in unicodedata.normalize('NFD', s)\n",
    "        if unicodedata.category(c) != 'Mn'\n",
    "    )\n",
    "\n",
    "# Lowercase, trim, and remove non-letter characters\n",
    "\n",
    "\n",
    "def normalizeString(s):\n",
    "    s = unicodeToAscii(s.lower().strip())\n",
    "    s = re.sub(r\"([.!?])\", r\" \\1\", s)\n",
    "    s = re.sub(r\"[^a-zA-Z.!?]+\", r\" \", s)\n",
    "    return s"
   ]
  },
  {
   "cell_type": "code",
   "execution_count": 6,
   "metadata": {
    "id": "UHMQOI_7z5uz"
   },
   "outputs": [],
   "source": [
    "def readLangs(lang1, lang2, reverse=False):\n",
    "    print(\"Reading lines...\")\n",
    "\n",
    "    # Read the file and split into lines\n",
    "    lines = open('data/%s-%s.txt' % (lang1, lang2), encoding='utf-8').\\\n",
    "        read().strip().split('\\n')\n",
    "\n",
    "    # Split every line into pairs and normalize\n",
    "    pairs = [[normalizeString(s) for s in l.split('\\t')] for l in lines]\n",
    "\n",
    "    # Reverse pairs, make Lang instances\n",
    "    if reverse:\n",
    "        pairs = [list(reversed(p)) for p in pairs]\n",
    "        input_lang = Lang(lang2)\n",
    "        output_lang = Lang(lang1)\n",
    "    else:\n",
    "        input_lang = Lang(lang1)\n",
    "        output_lang = Lang(lang2)\n",
    "\n",
    "    return input_lang, output_lang, pairs"
   ]
  },
  {
   "cell_type": "code",
   "execution_count": 7,
   "metadata": {
    "id": "FzkXbRrd0P9O"
   },
   "outputs": [],
   "source": [
    "\n",
    "MAX_LENGTH = 10\n",
    "\n",
    "eng_prefixes = (\n",
    "    \"i am \", \"i m \",\n",
    "    \"he is\", \"he s \",\n",
    "    \"she is\", \"she s \",\n",
    "    \"you are\", \"you re \",\n",
    "    \"we are\", \"we re \",\n",
    "    \"they are\", \"they re \"\n",
    ")\n",
    "\n",
    "\n",
    "def filterPair(p):\n",
    "    return len(p[0].split(' ')) < MAX_LENGTH and \\\n",
    "        len(p[1].split(' ')) < MAX_LENGTH and \\\n",
    "        p[1].startswith(eng_prefixes)\n",
    "\n",
    "\n",
    "def filterPairs(pairs):\n",
    "    return [pair for pair in pairs if filterPair(pair)]"
   ]
  },
  {
   "cell_type": "code",
   "execution_count": 8,
   "metadata": {
    "colab": {
     "base_uri": "https://localhost:8080/"
    },
    "id": "AXfdm01if7Em",
    "outputId": "d6bace61-5ac1-4d0f-afb3-9d65348f2dd6"
   },
   "outputs": [
    {
     "name": "stdout",
     "output_type": "stream",
     "text": [
      "Reading lines...\n",
      "Read 135842 sentence pairs\n",
      "Trimmed to 10599 sentence pairs\n",
      "Counting words...\n",
      "Counted words:\n",
      "fra 4345\n",
      "eng 2803\n",
      "['je suis heureux de vous avoir invites .', 'i m glad i invited you .']\n"
     ]
    }
   ],
   "source": [
    "def prepareData(lang1, lang2, reverse=False):\n",
    "    input_lang, output_lang, pairs = readLangs(lang1, lang2, reverse)\n",
    "    print(\"Read %s sentence pairs\" % len(pairs))\n",
    "    pairs = filterPairs(pairs)\n",
    "    print(\"Trimmed to %s sentence pairs\" % len(pairs))\n",
    "    print(\"Counting words...\")\n",
    "    for pair in pairs:\n",
    "        input_lang.addSentence(pair[0])\n",
    "        output_lang.addSentence(pair[1])\n",
    "    print(\"Counted words:\")\n",
    "    print(input_lang.name, input_lang.n_words)\n",
    "    print(output_lang.name, output_lang.n_words)\n",
    "    return input_lang, output_lang, pairs\n",
    "\n",
    "\n",
    "input_lang, output_lang, pairs = prepareData('eng', 'fra', True)\n",
    "print(random.choice(pairs))"
   ]
  },
  {
   "cell_type": "code",
   "execution_count": 9,
   "metadata": {
    "colab": {
     "base_uri": "https://localhost:8080/"
    },
    "id": "r-WzL9SCgr34",
    "outputId": "25344fdb-0ce9-4f37-86ae-e2cd727a557e"
   },
   "outputs": [
    {
     "data": {
      "text/plain": [
       "[['j ai ans .', 'i m .'],\n",
       " ['je vais bien .', 'i m ok .'],\n",
       " ['ca va .', 'i m ok .'],\n",
       " ['je suis gras .', 'i m fat .'],\n",
       " ['je suis gros .', 'i m fat .']]"
      ]
     },
     "execution_count": 9,
     "metadata": {
      "tags": []
     },
     "output_type": "execute_result"
    }
   ],
   "source": [
    "pairs[0:5]"
   ]
  },
  {
   "cell_type": "code",
   "execution_count": 10,
   "metadata": {
    "colab": {
     "base_uri": "https://localhost:8080/"
    },
    "id": "ZaLRxE7zf9JC",
    "outputId": "c7c58e43-ca22-414a-c630-b33f1b5b2983"
   },
   "outputs": [
    {
     "data": {
      "text/plain": [
       "['je suis loyal .', 'i m loyal .']"
      ]
     },
     "execution_count": 10,
     "metadata": {
      "tags": []
     },
     "output_type": "execute_result"
    }
   ],
   "source": [
    "sample = random.choice(pairs)\n",
    "sample"
   ]
  },
  {
   "cell_type": "code",
   "execution_count": 11,
   "metadata": {
    "id": "Dqeagac5gB4m"
   },
   "outputs": [],
   "source": [
    "input_size = input_lang.n_words\n",
    "hidden_size = 256"
   ]
  },
  {
   "cell_type": "code",
   "execution_count": 12,
   "metadata": {
    "colab": {
     "base_uri": "https://localhost:8080/"
    },
    "id": "oUIitK5WgHgg",
    "outputId": "5af5bbb4-2465-4918-97ce-37778e576e29"
   },
   "outputs": [
    {
     "data": {
      "text/plain": [
       "4345"
      ]
     },
     "execution_count": 12,
     "metadata": {
      "tags": []
     },
     "output_type": "execute_result"
    }
   ],
   "source": [
    "input_size"
   ]
  },
  {
   "cell_type": "code",
   "execution_count": 13,
   "metadata": {
    "colab": {
     "base_uri": "https://localhost:8080/"
    },
    "id": "8-RKcJbvgKVT",
    "outputId": "b75e880d-7a9b-4b2c-83e5-ce01d3307a46"
   },
   "outputs": [
    {
     "name": "stdout",
     "output_type": "stream",
     "text": [
      "je\n",
      "suis\n",
      "loyal\n",
      ".\n"
     ]
    }
   ],
   "source": [
    "for word in sample[0].split(' '):\n",
    "  print(word)"
   ]
  },
  {
   "cell_type": "markdown",
   "metadata": {
    "id": "ensvGEy_hF_9"
   },
   "source": [
    "In order to work with embedding layer and the LSTM the inputs should be in the form of tensor, So we need to convert the sentences(words) to tensors.\n",
    "First we'll split the sentences by whitespaces and convert each words into indices(using word2index[word])"
   ]
  },
  {
   "cell_type": "code",
   "execution_count": 14,
   "metadata": {
    "colab": {
     "base_uri": "https://localhost:8080/"
    },
    "id": "xgwRupEOgOFI",
    "outputId": "8c80048f-855b-4115-b208-ff8afa8917c4"
   },
   "outputs": [
    {
     "data": {
      "text/plain": [
       "([6, 11, 92, 5], [2, 3, 62, 4])"
      ]
     },
     "execution_count": 14,
     "metadata": {
      "tags": []
     },
     "output_type": "execute_result"
    }
   ],
   "source": [
    "input_sentence = sample[0]\n",
    "target_sentence = sample[1]\n",
    "\n",
    "input_indices = [input_lang.word2index[word] for word in input_sentence.split(' ')]\n",
    "target_indices = [output_lang.word2index[word] for word in target_sentence.split(' ')]\n",
    "\n",
    "input_indices, target_indices"
   ]
  },
  {
   "cell_type": "markdown",
   "metadata": {
    "id": "SFVsaSbphP31"
   },
   "source": [
    "Add, EOS to the end of sentences to indicate the end of tensor"
   ]
  },
  {
   "cell_type": "code",
   "execution_count": 15,
   "metadata": {
    "colab": {
     "base_uri": "https://localhost:8080/"
    },
    "id": "PEUWbuihhFKd",
    "outputId": "c02ed2d6-5c1b-4a53-c2c6-0d33313035af"
   },
   "outputs": [
    {
     "data": {
      "text/plain": [
       "([6, 11, 92, 5, 1], [2, 3, 62, 4, 1])"
      ]
     },
     "execution_count": 15,
     "metadata": {
      "tags": []
     },
     "output_type": "execute_result"
    }
   ],
   "source": [
    "input_indices.append(EOS_token)\n",
    "target_indices.append(EOS_token)\n",
    "\n",
    "input_indices, target_indices"
   ]
  },
  {
   "cell_type": "markdown",
   "metadata": {
    "id": "HccxHqrlhfbc"
   },
   "source": [
    "Convert to tensor"
   ]
  },
  {
   "cell_type": "code",
   "execution_count": 16,
   "metadata": {
    "id": "he_APoQFhZSU"
   },
   "outputs": [],
   "source": [
    "input_tensor = torch.tensor(input_indices, dtype=torch.long, device= device)\n",
    "output_tensor = torch.tensor(target_indices, dtype=torch.long, device= device)"
   ]
  },
  {
   "cell_type": "markdown",
   "metadata": {
    "id": "SdZafxIlholW"
   },
   "source": [
    "Define Embedding layer and LSTM layer for encoder "
   ]
  },
  {
   "cell_type": "code",
   "execution_count": 17,
   "metadata": {
    "id": "GkDihl4Phk4D"
   },
   "outputs": [],
   "source": [
    "embedding = nn.Embedding(input_size, hidden_size).to(device)\n",
    "lstm = nn.LSTM(hidden_size, hidden_size).to(device)"
   ]
  },
  {
   "cell_type": "code",
   "execution_count": 18,
   "metadata": {
    "colab": {
     "base_uri": "https://localhost:8080/"
    },
    "id": "SK93FtKwh09q",
    "outputId": "bb41f748-9950-440f-b322-cb0f225123cc"
   },
   "outputs": [
    {
     "data": {
      "text/plain": [
       "torch.Size([256])"
      ]
     },
     "execution_count": 18,
     "metadata": {
      "tags": []
     },
     "output_type": "execute_result"
    }
   ],
   "source": [
    "embedded_input = embedding(input_tensor[0]) #first word only\n",
    "embedded_input.shape"
   ]
  },
  {
   "cell_type": "markdown",
   "metadata": {
    "id": "uHdwKYsfh_5b"
   },
   "source": [
    "\n",
    "We are working with 1 sample, but we would be working for a batch. Let's fix that by converting our input_tensor into a fake batch"
   ]
  },
  {
   "cell_type": "code",
   "execution_count": 19,
   "metadata": {
    "colab": {
     "base_uri": "https://localhost:8080/"
    },
    "id": "iHYKqqoGh8sm",
    "outputId": "d4c8e1a0-19b3-4a99-8c33-b795b8507f9f"
   },
   "outputs": [
    {
     "name": "stdout",
     "output_type": "stream",
     "text": [
      "torch.Size([256])\n",
      "torch.Size([1, 1, 256])\n"
     ]
    }
   ],
   "source": [
    "print(embedded_input.shape)\n",
    "embedded_input = embedding(input_tensor[0].view(-1, 1))\n",
    "print(embedded_input.shape)"
   ]
  },
  {
   "cell_type": "markdown",
   "metadata": {
    "id": "6wsYwGw4iSsR"
   },
   "source": [
    "Let's build our LSTM, initialize the hidden state and cell state with Zeros(Empty state)"
   ]
  },
  {
   "cell_type": "code",
   "execution_count": 20,
   "metadata": {
    "id": "9TH-02SsiCZw"
   },
   "outputs": [],
   "source": [
    "(hidden,ct) = torch.zeros(1, 1, 256, device=device),torch.zeros(1, 1, 256, device=device)\n",
    "\n",
    "embedded_input = embedding(input_tensor[0].view(-1, 1))\n",
    "output, (hidden,ct) = lstm(embedded_input, (hidden,ct))"
   ]
  },
  {
   "cell_type": "code",
   "execution_count": 21,
   "metadata": {
    "colab": {
     "base_uri": "https://localhost:8080/"
    },
    "id": "i-i4hf4giU-l",
    "outputId": "7dad4751-c099-4328-dc16-7cd06b078e67"
   },
   "outputs": [
    {
     "data": {
      "text/plain": [
       "(torch.Size([1, 1, 256]), torch.Size([1, 1, 256]), torch.Size([1, 1, 256]))"
      ]
     },
     "execution_count": 21,
     "metadata": {
      "tags": []
     },
     "output_type": "execute_result"
    }
   ],
   "source": [
    "embedded_input.shape,hidden.shape,ct.shape"
   ]
  },
  {
   "cell_type": "code",
   "execution_count": 22,
   "metadata": {
    "colab": {
     "base_uri": "https://localhost:8080/"
    },
    "id": "JYd_XV7qigNU",
    "outputId": "9bd4f4a6-d291-432f-b16e-e057232e4ec6"
   },
   "outputs": [
    {
     "data": {
      "text/plain": [
       "(torch.Size([1, 1, 256]), torch.Size([256]))"
      ]
     },
     "execution_count": 22,
     "metadata": {
      "tags": []
     },
     "output_type": "execute_result"
    }
   ],
   "source": [
    "\n",
    "output.shape, output[0, 0].shape"
   ]
  },
  {
   "cell_type": "code",
   "execution_count": 23,
   "metadata": {
    "colab": {
     "base_uri": "https://localhost:8080/"
    },
    "id": "zf24PZRhijsw",
    "outputId": "af9f82e0-4f84-41f8-f2c4-54651f79860d"
   },
   "outputs": [
    {
     "data": {
      "text/plain": [
       "torch.Size([10, 256])"
      ]
     },
     "execution_count": 23,
     "metadata": {
      "tags": []
     },
     "output_type": "execute_result"
    }
   ],
   "source": [
    "encoder_outputs = torch.zeros(MAX_LENGTH, 256, device=device)\n",
    "encoder_outputs.shape"
   ]
  },
  {
   "cell_type": "code",
   "execution_count": 24,
   "metadata": {
    "colab": {
     "base_uri": "https://localhost:8080/"
    },
    "id": "zRP4OcljinI6",
    "outputId": "8a80b3bf-8273-44cc-d859-bf0c0727a2d5"
   },
   "outputs": [
    {
     "data": {
      "text/plain": [
       "(torch.Size([5]), 5)"
      ]
     },
     "execution_count": 24,
     "metadata": {
      "tags": []
     },
     "output_type": "execute_result"
    }
   ],
   "source": [
    "input_tensor.size(), input_tensor.size()[0]"
   ]
  },
  {
   "cell_type": "markdown",
   "metadata": {
    "id": "Ttn9MfUOixu7"
   },
   "source": [
    "Now we will define a empty tensor with size MAX_LENGTH to store the Encoder outputs.\n",
    "Then we can get the encoder outputs for each of the word in the Sentence"
   ]
  },
  {
   "cell_type": "code",
   "execution_count": 25,
   "metadata": {
    "id": "rq2-FRpUisWZ"
   },
   "outputs": [],
   "source": [
    "encoder_outputs = torch.zeros(MAX_LENGTH, 256, device=device)\n",
    "\n",
    "(encoder_hidden,encoder_ct) = torch.zeros(1, 1, 256, device=device),torch.zeros(1, 1, 256, device=device)\n",
    "\n",
    "for i in range(input_tensor.size()[0]):  \n",
    "  embedded_input = embedding(input_tensor[i].view(-1, 1))\n",
    "  output, (encoder_hidden,encoder_ct) = lstm(embedded_input, (encoder_hidden,encoder_ct))\n",
    "  encoder_outputs[i] += output[0,0]"
   ]
  },
  {
   "cell_type": "code",
   "execution_count": 26,
   "metadata": {
    "colab": {
     "base_uri": "https://localhost:8080/"
    },
    "id": "pNHSCSnHizpP",
    "outputId": "da82163e-c380-4939-cf2f-d082bb2f343c"
   },
   "outputs": [
    {
     "name": "stdout",
     "output_type": "stream",
     "text": [
      "Input Sentence: je suis loyal .\n",
      "Target Sentence: i m loyal .\n",
      "Input indices: [6, 11, 92, 5]\n",
      "Target indices: [6, 11, 92, 5]\n",
      "After adding the <EOS> token\n",
      "Input indices: [6, 11, 92, 5, 1]\n",
      "Target indices: [6, 11, 92, 5, 1]\n",
      "Input tensor: tensor([ 6, 11, 92,  5,  1], device='cuda:0')\n",
      "Target tensor: tensor([ 2,  3, 62,  4,  1], device='cuda:0')\n",
      "\n",
      "\n",
      "\n",
      "Encoder part\n",
      "\n",
      "Step 0\n",
      "Word => je\n",
      "\n",
      "Input Tensor => tensor(6, device='cuda:0')\n",
      "Step 1\n",
      "Word => suis\n",
      "\n",
      "Input Tensor => tensor(11, device='cuda:0')\n",
      "Step 2\n",
      "Word => loyal\n",
      "\n",
      "Input Tensor => tensor(92, device='cuda:0')\n",
      "Step 3\n",
      "Word => .\n",
      "\n",
      "Input Tensor => tensor(5, device='cuda:0')\n",
      "Step 4\n",
      "Word => <EOS>\n",
      "\n",
      "Input Tensor => tensor(1, device='cuda:0')\n"
     ]
    }
   ],
   "source": [
    "input_sentence = sample[0]\n",
    "target_sentence = sample[1]\n",
    "print(\"Input Sentence:\",sample[0])\n",
    "print(\"Target Sentence:\",sample[1])\n",
    "\n",
    "input_indices = [input_lang.word2index[word] for word in input_sentence.split(' ')]\n",
    "target_indices = [output_lang.word2index[word] for word in target_sentence.split(' ')]\n",
    "print(\"Input indices:\",input_indices)\n",
    "print(\"Target indices:\",input_indices)\n",
    "\n",
    "input_indices.append(EOS_token)\n",
    "target_indices.append(EOS_token)\n",
    "print(\"After adding the <EOS> token\")\n",
    "print(\"Input indices:\",input_indices)\n",
    "print(\"Target indices:\",input_indices)\n",
    "\n",
    "input_tensor = torch.tensor(input_indices, dtype=torch.long, device= device)\n",
    "output_tensor = torch.tensor(target_indices, dtype=torch.long, device= device)\n",
    "print(\"Input tensor:\",input_tensor)\n",
    "print(\"Target tensor:\",output_tensor)\n",
    "print(\"\\n\\n\")\n",
    "\n",
    "print(\"Encoder part\\n\")\n",
    "encoder_outputs = torch.zeros(MAX_LENGTH, 256, device=device)\n",
    "(encoder_hidden,encoder_ct) = torch.zeros(1, 1, 256, device=device),torch.zeros(1, 1, 256, device=device)\n",
    "\n",
    "for i in range(input_tensor.size()[0]):\n",
    "  \n",
    "  if (i<input_tensor.size()[0]-1):\n",
    "    input_word = input_sentence.split(' ')[i] \n",
    "  else:\n",
    "    input_word = \"<EOS>\"\n",
    "  print('Step %d\\nWord => %s\\n'%(i,input_word))\n",
    "  print(\"Input Tensor =>\",input_tensor[i]) \n",
    "  embedded_input = embedding(input_tensor[i].view(-1, 1))\n",
    "  embedded_input_cpu = embedded_input.cpu()\n",
    "  # plt.figure(figsize = (16,16))\n",
    "  # seaborn.heatmap(embedded_input_cpu.detach().numpy().reshape(-1, 16), fmt=\".2f\",annot=True, cmap=\"Blues\").set(title=f\"Embeddings for word => {input_word}\")\n",
    "  # plt.xticks([])\n",
    "  # plt.yticks([])\n",
    "  # plt.show()\n",
    "  output, (encoder_hidden,encoder_ct) = lstm(embedded_input, (encoder_hidden,encoder_ct))\n",
    "  output_cpu = output[0,0].cpu()\n",
    "  # plt.figure(figsize = (16,16))\n",
    "  # seaborn.heatmap(output_cpu.detach().numpy().reshape(-1, 16), fmt=\".2f\",annot=True, cmap=\"Blues\").set(title=f\"Encoder hidden state for word => {input_word}\")\n",
    "  # plt.xticks([])\n",
    "  # plt.yticks([])\n",
    "  # plt.show()\n",
    "  encoder_outputs[i] += output[0,0]\n",
    "  # print(\"\\n\\n\")"
   ]
  },
  {
   "cell_type": "markdown",
   "metadata": {
    "id": "3krdZVzbjf8B"
   },
   "source": [
    "\n",
    "We completed the Encoder part now, Now we can start building the Attention Decoder\n",
    "\n",
    "First input to the decoder will be SOS_token, later inputs would be the words it predicted (unless we implement teacher forcing).\n",
    "Decoder/LSTM's hidden state will be initialized with the encoder's last hidden state.\n",
    "We will use LSTM's hidden state and last prediction to generate attention weight using a FC layer.\n",
    "This attention weight will be used to weigh the encoder_outputs using batch matric multiplication. This will give us a NEW view on how to look at encoder_states.\n",
    "this attention applied encoder_states will then be concatenated with the input, and then sent a linear layer and then sent to the LSTM.\n",
    "LSTM's output will be sent to a FC layer to predict one of the output_language words"
   ]
  },
  {
   "cell_type": "code",
   "execution_count": 27,
   "metadata": {
    "id": "JmGTTzbXjOgd"
   },
   "outputs": [],
   "source": [
    "# first input\n",
    "decoder_input = torch.tensor([[SOS_token]], device=device)\n",
    "(decoder_hidden,decoder_ct) = (encoder_hidden,encoder_ct)\n",
    "decoded_words = []"
   ]
  },
  {
   "cell_type": "code",
   "execution_count": 28,
   "metadata": {
    "id": "sEkhvOM9jhwj"
   },
   "outputs": [],
   "source": [
    "output_size = output_lang.n_words\n",
    "\n",
    "embedding = nn.Embedding(output_size, 256).to(device)"
   ]
  },
  {
   "cell_type": "code",
   "execution_count": 29,
   "metadata": {
    "colab": {
     "base_uri": "https://localhost:8080/"
    },
    "id": "zfoG9hQnjjkH",
    "outputId": "666c4828-e99d-4f84-c4bf-965089b42714"
   },
   "outputs": [
    {
     "data": {
      "text/plain": [
       "torch.Size([1, 1, 256])"
      ]
     },
     "execution_count": 29,
     "metadata": {
      "tags": []
     },
     "output_type": "execute_result"
    }
   ],
   "source": [
    "embedded = embedding(decoder_input)\n",
    "embedded.shape"
   ]
  },
  {
   "cell_type": "code",
   "execution_count": 30,
   "metadata": {
    "id": "HGAEnu6hjlJo"
   },
   "outputs": [],
   "source": [
    "attn_weight_layer = nn.Linear(256 * 2, 10).to(device)"
   ]
  },
  {
   "cell_type": "code",
   "execution_count": 31,
   "metadata": {
    "colab": {
     "base_uri": "https://localhost:8080/"
    },
    "id": "PGPCoNtRjm04",
    "outputId": "bf0a65a3-a8d1-4089-f4a7-d559aea421dc"
   },
   "outputs": [
    {
     "data": {
      "text/plain": [
       "(torch.Size([1, 1, 256]), torch.Size([1, 1, 256]))"
      ]
     },
     "execution_count": 31,
     "metadata": {
      "tags": []
     },
     "output_type": "execute_result"
    }
   ],
   "source": [
    "embedded.shape, decoder_hidden.shape"
   ]
  },
  {
   "cell_type": "code",
   "execution_count": 32,
   "metadata": {
    "colab": {
     "base_uri": "https://localhost:8080/"
    },
    "id": "xCqJcM3VjoOO",
    "outputId": "b770a21b-716d-4f57-9bbb-2985a9500133"
   },
   "outputs": [
    {
     "data": {
      "text/plain": [
       "torch.Size([1, 2, 256])"
      ]
     },
     "execution_count": 32,
     "metadata": {
      "tags": []
     },
     "output_type": "execute_result"
    }
   ],
   "source": [
    "torch.cat((embedded, decoder_hidden), 1).shape"
   ]
  },
  {
   "cell_type": "code",
   "execution_count": 33,
   "metadata": {
    "colab": {
     "base_uri": "https://localhost:8080/"
    },
    "id": "s6GHabvJjqRx",
    "outputId": "a2af7a39-4dbb-41b1-fdaa-46eca4532252"
   },
   "outputs": [
    {
     "data": {
      "text/plain": [
       "torch.Size([1, 512])"
      ]
     },
     "execution_count": 33,
     "metadata": {
      "tags": []
     },
     "output_type": "execute_result"
    }
   ],
   "source": [
    "torch.cat((embedded[0], decoder_hidden[0]), 1).shape"
   ]
  },
  {
   "cell_type": "markdown",
   "metadata": {
    "id": "5usY5919juOd"
   },
   "source": [
    "Now we will calaculate the attentions. We will calculating the attentions by conacatinating the embeddings and last decoder hidden state and giving as input to the fully connected layer."
   ]
  },
  {
   "cell_type": "code",
   "execution_count": 34,
   "metadata": {
    "colab": {
     "base_uri": "https://localhost:8080/"
    },
    "id": "iGLPNjLtjrlt",
    "outputId": "be7b81e5-5fd5-453b-bacb-f77fe7140db9"
   },
   "outputs": [
    {
     "data": {
      "text/plain": [
       "tensor([[-0.8699,  0.8735, -0.6135, -0.1851,  0.3014, -0.1604,  0.1392, -0.6633,\n",
       "         -0.3715,  0.3680]], device='cuda:0', grad_fn=<AddmmBackward>)"
      ]
     },
     "execution_count": 34,
     "metadata": {
      "tags": []
     },
     "output_type": "execute_result"
    }
   ],
   "source": [
    "attn_weight_layer = nn.Linear(256 * 2, 10).to(device)\n",
    "attn_weights = attn_weight_layer(torch.cat((embedded[0], decoder_hidden[0]), 1))\n",
    "attn_weights"
   ]
  },
  {
   "cell_type": "code",
   "execution_count": 35,
   "metadata": {
    "colab": {
     "base_uri": "https://localhost:8080/"
    },
    "id": "uvU2NkpQjvoh",
    "outputId": "321e66b7-4760-43ad-f7f4-2224bf499522"
   },
   "outputs": [
    {
     "data": {
      "text/plain": [
       "tensor([[0.1876, 0.0679, 0.0809, 0.0534, 0.0822, 0.2576, 0.0746, 0.0894, 0.0625,\n",
       "         0.0439]], device='cuda:0', grad_fn=<SoftmaxBackward>)"
      ]
     },
     "execution_count": 35,
     "metadata": {
      "tags": []
     },
     "output_type": "execute_result"
    }
   ],
   "source": [
    "import torch.nn.functional as F\n",
    "\n",
    "attn_weight_layer = nn.Linear(256 * 2, 10).to(device)\n",
    "attn_weights = attn_weight_layer(torch.cat((embedded[0], decoder_hidden[0]), 1))\n",
    "attn_weights = F.softmax(attn_weights, dim = 1)\n",
    "attn_weights"
   ]
  },
  {
   "cell_type": "code",
   "execution_count": 36,
   "metadata": {
    "colab": {
     "base_uri": "https://localhost:8080/"
    },
    "id": "Bcz0-luyjx5X",
    "outputId": "674d12df-8b10-4dcf-8a0c-3b8122674549"
   },
   "outputs": [
    {
     "data": {
      "text/plain": [
       "(torch.Size([1, 10]), torch.Size([10, 256]))"
      ]
     },
     "execution_count": 36,
     "metadata": {
      "tags": []
     },
     "output_type": "execute_result"
    }
   ],
   "source": [
    "attn_weights.shape, encoder_outputs.shape"
   ]
  },
  {
   "cell_type": "code",
   "execution_count": 37,
   "metadata": {
    "colab": {
     "base_uri": "https://localhost:8080/"
    },
    "id": "e0tU9qJvj1Et",
    "outputId": "23704c0f-fc4b-4674-8725-09c0051f4ea1"
   },
   "outputs": [
    {
     "data": {
      "text/plain": [
       "(torch.Size([1, 1, 10]), torch.Size([1, 10, 256]))"
      ]
     },
     "execution_count": 37,
     "metadata": {
      "tags": []
     },
     "output_type": "execute_result"
    }
   ],
   "source": [
    "attn_weights.unsqueeze(0).shape, encoder_outputs.unsqueeze(0).shape"
   ]
  },
  {
   "cell_type": "code",
   "execution_count": 38,
   "metadata": {
    "colab": {
     "base_uri": "https://localhost:8080/"
    },
    "id": "nd2LHqnHj4MO",
    "outputId": "6918244b-fee8-4189-ed3c-0358c5f88440"
   },
   "outputs": [
    {
     "data": {
      "text/plain": [
       "torch.Size([1, 1, 256])"
      ]
     },
     "execution_count": 38,
     "metadata": {
      "tags": []
     },
     "output_type": "execute_result"
    }
   ],
   "source": [
    "attn_applied = torch.bmm(attn_weights.unsqueeze(0), encoder_outputs.unsqueeze(0))\n",
    "attn_applied.shape"
   ]
  },
  {
   "cell_type": "code",
   "execution_count": 39,
   "metadata": {
    "colab": {
     "base_uri": "https://localhost:8080/"
    },
    "id": "oa_jY3KLj5uh",
    "outputId": "b663f191-ad9c-4a41-92f2-d501a0c340bb"
   },
   "outputs": [
    {
     "data": {
      "text/plain": [
       "(torch.Size([1, 1, 256]), torch.Size([1, 1, 256]))"
      ]
     },
     "execution_count": 39,
     "metadata": {
      "tags": []
     },
     "output_type": "execute_result"
    }
   ],
   "source": [
    "input_to_lstm_layer = nn.Linear(256 * 2, 256).to(device)\n",
    "\n",
    "embedded.shape, attn_applied.shape"
   ]
  },
  {
   "cell_type": "code",
   "execution_count": 40,
   "metadata": {
    "colab": {
     "base_uri": "https://localhost:8080/"
    },
    "id": "1fmqvSj7j7BJ",
    "outputId": "610d5870-dd05-43ed-ab75-49b89eed2169"
   },
   "outputs": [
    {
     "data": {
      "text/plain": [
       "(torch.Size([1, 2, 256]), torch.Size([1, 512]))"
      ]
     },
     "execution_count": 40,
     "metadata": {
      "tags": []
     },
     "output_type": "execute_result"
    }
   ],
   "source": [
    "torch.cat((embedded, attn_applied), 1).shape, torch.cat((embedded[0], attn_applied[0]), 1).shape"
   ]
  },
  {
   "cell_type": "code",
   "execution_count": 41,
   "metadata": {
    "colab": {
     "base_uri": "https://localhost:8080/"
    },
    "id": "6t1cSjuij8oN",
    "outputId": "a0d13831-dabd-415d-c014-27b575f55725"
   },
   "outputs": [
    {
     "data": {
      "text/plain": [
       "torch.Size([1, 256])"
      ]
     },
     "execution_count": 41,
     "metadata": {
      "tags": []
     },
     "output_type": "execute_result"
    }
   ],
   "source": [
    "input_to_lstm = input_to_lstm_layer(torch.cat((embedded[0], attn_applied[0]), 1))\n",
    "input_to_lstm.shape"
   ]
  },
  {
   "cell_type": "code",
   "execution_count": 42,
   "metadata": {
    "id": "r0Npns32j_xh"
   },
   "outputs": [],
   "source": [
    "lstm = nn.LSTM(256, 256).to(device)"
   ]
  },
  {
   "cell_type": "code",
   "execution_count": 43,
   "metadata": {
    "colab": {
     "base_uri": "https://localhost:8080/"
    },
    "id": "gU1Ch9kjkC_c",
    "outputId": "0d681b78-8ddb-4eed-873b-1b763fcad42c"
   },
   "outputs": [
    {
     "data": {
      "text/plain": [
       "(torch.Size([1, 1, 256]), torch.Size([1, 256]))"
      ]
     },
     "execution_count": 43,
     "metadata": {
      "tags": []
     },
     "output_type": "execute_result"
    }
   ],
   "source": [
    "decoder_hidden.shape, input_to_lstm.shape"
   ]
  },
  {
   "cell_type": "code",
   "execution_count": 44,
   "metadata": {
    "colab": {
     "base_uri": "https://localhost:8080/"
    },
    "id": "KdyH53J8kFUm",
    "outputId": "208caac5-43d0-478a-887c-b11b25ba0500"
   },
   "outputs": [
    {
     "data": {
      "text/plain": [
       "torch.Size([1, 1, 256])"
      ]
     },
     "execution_count": 44,
     "metadata": {
      "tags": []
     },
     "output_type": "execute_result"
    }
   ],
   "source": [
    "input_to_lstm.unsqueeze(0).shape"
   ]
  },
  {
   "cell_type": "code",
   "execution_count": 45,
   "metadata": {
    "colab": {
     "base_uri": "https://localhost:8080/"
    },
    "id": "XvV9Pn6akH3z",
    "outputId": "3c990a49-8df0-433d-a6dd-9395b1e49ea2"
   },
   "outputs": [
    {
     "data": {
      "text/plain": [
       "(torch.Size([1, 1, 256]), torch.Size([1, 1, 256]))"
      ]
     },
     "execution_count": 45,
     "metadata": {
      "tags": []
     },
     "output_type": "execute_result"
    }
   ],
   "source": [
    "output, (decoder_hidden,decoder_ct) = lstm(input_to_lstm.unsqueeze(0), (decoder_hidden,decoder_ct))\n",
    "output.shape, decoder_hidden.shape"
   ]
  },
  {
   "cell_type": "code",
   "execution_count": 46,
   "metadata": {
    "id": "nSQRJEAOkKa6"
   },
   "outputs": [],
   "source": [
    "output_word_layer = nn.Linear(256, output_lang.n_words).to(device)"
   ]
  },
  {
   "cell_type": "code",
   "execution_count": 47,
   "metadata": {
    "colab": {
     "base_uri": "https://localhost:8080/"
    },
    "id": "CEuI6It5kL97",
    "outputId": "db1f5b77-897c-4dc1-8b12-88f41fb15899"
   },
   "outputs": [
    {
     "data": {
      "text/plain": [
       "(tensor([[0.0004, 0.0003, 0.0004,  ..., 0.0004, 0.0004, 0.0004]],\n",
       "        device='cuda:0', grad_fn=<SoftmaxBackward>), torch.Size([1, 2803]))"
      ]
     },
     "execution_count": 47,
     "metadata": {
      "tags": []
     },
     "output_type": "execute_result"
    }
   ],
   "source": [
    "output = F.relu(output)\n",
    "output = F.softmax(output_word_layer(output[0]), dim = 1)\n",
    "output, output.shape"
   ]
  },
  {
   "cell_type": "code",
   "execution_count": 48,
   "metadata": {
    "colab": {
     "base_uri": "https://localhost:8080/"
    },
    "id": "q-1L4B9jkNaz",
    "outputId": "b6786bd3-6da9-4da9-d309-2a3377c163a3"
   },
   "outputs": [
    {
     "data": {
      "text/plain": [
       "torch.return_types.topk(values=tensor([[0.0004]], device='cuda:0'), indices=tensor([[1437]], device='cuda:0'))"
      ]
     },
     "execution_count": 48,
     "metadata": {
      "tags": []
     },
     "output_type": "execute_result"
    }
   ],
   "source": [
    "output.data.topk(1)"
   ]
  },
  {
   "cell_type": "code",
   "execution_count": 49,
   "metadata": {
    "colab": {
     "base_uri": "https://localhost:8080/",
     "height": 35
    },
    "id": "UXbT9xdWkZ3M",
    "outputId": "e220a803-c90a-4957-f143-caeb46f1535b"
   },
   "outputs": [
    {
     "data": {
      "application/vnd.google.colaboratory.intrinsic+json": {
       "type": "string"
      },
      "text/plain": [
       "'prankster'"
      ]
     },
     "execution_count": 49,
     "metadata": {
      "tags": []
     },
     "output_type": "execute_result"
    }
   ],
   "source": [
    "top_value, top_index = output.data.topk(1)\n",
    "output_lang.index2word[top_index.item()]"
   ]
  },
  {
   "cell_type": "code",
   "execution_count": 50,
   "metadata": {
    "colab": {
     "base_uri": "https://localhost:8080/"
    },
    "id": "XRn0B7HDkbbt",
    "outputId": "d00a1a88-e746-43a2-ace2-dde75c2e7921"
   },
   "outputs": [
    {
     "data": {
      "text/plain": [
       "1437"
      ]
     },
     "execution_count": 50,
     "metadata": {
      "tags": []
     },
     "output_type": "execute_result"
    }
   ],
   "source": [
    "top_index.item()"
   ]
  },
  {
   "cell_type": "code",
   "execution_count": 51,
   "metadata": {
    "colab": {
     "base_uri": "https://localhost:8080/",
     "height": 35
    },
    "id": "HBEzSeRVkdVg",
    "outputId": "2bfed7d8-6d52-4457-9181-da42458d6161"
   },
   "outputs": [
    {
     "data": {
      "application/vnd.google.colaboratory.intrinsic+json": {
       "type": "string"
      },
      "text/plain": [
       "'cooking'"
      ]
     },
     "execution_count": 51,
     "metadata": {
      "tags": []
     },
     "output_type": "execute_result"
    }
   ],
   "source": [
    "decoder_input = torch.tensor([[SOS_token]], device=device)\n",
    "(decoder_hidden,decoder_ct) = (encoder_hidden,encoder_ct)\n",
    "output_size = output_lang.n_words\n",
    "embedding = nn.Embedding(output_size, 256).to(device)\n",
    "embedded = embedding(decoder_input)\n",
    "attn_weight_layer = nn.Linear(256 * 2, 10).to(device)\n",
    "attn_weights = attn_weight_layer(torch.cat((embedded[0], decoder_hidden[0]), 1))\n",
    "attn_weights = F.softmax(attn_weights, dim = 1)\n",
    "attn_applied = torch.bmm(attn_weights.unsqueeze(0), encoder_outputs.unsqueeze(0))\n",
    "input_to_lstm_layer = nn.Linear(256 * 2, 256).to(device)\n",
    "input_to_lstm = input_to_lstm_layer(torch.cat((embedded[0], attn_applied[0]), 1))\n",
    "lstm = nn.LSTM(256, 256).to(device)\n",
    "input_to_lstm = input_to_lstm.unsqueeze(0)\n",
    "output, (decoder_hidden,decoder_ct) = lstm(input_to_lstm, (decoder_hidden,decoder_ct))\n",
    "output_word_layer = nn.Linear(256, output_lang.n_words).to(device)\n",
    "output = F.relu(output)\n",
    "output = F.softmax(output_word_layer(output[0]), dim = 1)\n",
    "top_value, top_index = output.data.topk(1)\n",
    "output_lang.index2word[top_index.item()]"
   ]
  },
  {
   "cell_type": "code",
   "execution_count": 52,
   "metadata": {
    "colab": {
     "base_uri": "https://localhost:8080/"
    },
    "id": "hEgQcHsIkfdJ",
    "outputId": "1b610d98-df41-43d4-b1bc-fa010f69bbf8"
   },
   "outputs": [
    {
     "data": {
      "text/plain": [
       "('politics',\n",
       " tensor([[0.1348, 0.0700, 0.0775, 0.0967, 0.0755, 0.0949, 0.0301, 0.1141, 0.1631,\n",
       "          0.1432]], device='cuda:0', grad_fn=<SoftmaxBackward>))"
      ]
     },
     "execution_count": 52,
     "metadata": {
      "tags": []
     },
     "output_type": "execute_result"
    }
   ],
   "source": [
    "embedding = nn.Embedding(output_size, 256).to(device)\n",
    "attn_weight_layer = nn.Linear(256 * 2, 10).to(device)\n",
    "input_to_lstm_layer = nn.Linear(256 * 2, 256).to(device)\n",
    "lstm = nn.LSTM(256, 256).to(device)\n",
    "output_word_layer = nn.Linear(256, output_lang.n_words).to(device)\n",
    "\n",
    "\n",
    "decoder_input = torch.tensor([[SOS_token]], device=device)\n",
    "(decoder_hidden,decoder_ct) = (encoder_hidden,encoder_ct)\n",
    "output_size = output_lang.n_words\n",
    "embedded = embedding(decoder_input)\n",
    "attn_weights = attn_weight_layer(torch.cat((embedded[0], decoder_hidden[0]), 1))\n",
    "attn_weights = F.softmax(attn_weights, dim = 1)\n",
    "attn_applied = torch.bmm(attn_weights.unsqueeze(0), encoder_outputs.unsqueeze(0))\n",
    "input_to_lstm = input_to_lstm_layer(torch.cat((embedded[0], attn_applied[0]), 1))\n",
    "input_to_lstm = input_to_lstm.unsqueeze(0)\n",
    "output, (decoder_hidden,decoder_ct) = lstm(input_to_lstm, (decoder_hidden,decoder_ct))\n",
    "output = F.relu(output)\n",
    "output = F.softmax(output_word_layer(output[0]), dim = 1)\n",
    "top_value, top_index = output.data.topk(1)\n",
    "output_lang.index2word[top_index.item()], attn_weights"
   ]
  },
  {
   "cell_type": "code",
   "execution_count": 53,
   "metadata": {
    "colab": {
     "base_uri": "https://localhost:8080/"
    },
    "id": "DsTE-U40khxD",
    "outputId": "35bdfdd7-5847-4dfc-a2d0-02da1472eb02"
   },
   "outputs": [
    {
     "data": {
      "text/plain": [
       "('boat',\n",
       " tensor([[0.1100, 0.0716, 0.1370, 0.1274, 0.0511, 0.1684, 0.0740, 0.1001, 0.0931,\n",
       "          0.0674]], device='cuda:0', grad_fn=<SoftmaxBackward>))"
      ]
     },
     "execution_count": 53,
     "metadata": {
      "tags": []
     },
     "output_type": "execute_result"
    }
   ],
   "source": [
    "\n",
    "decoder_input = torch.tensor([[top_index.item()]], device=device)\n",
    "(decoder_hidden,decoder_ct) = (encoder_hidden,encoder_ct)\n",
    "output_size = output_lang.n_words\n",
    "embedded = embedding(decoder_input)\n",
    "attn_weights = attn_weight_layer(torch.cat((embedded[0], decoder_hidden[0]), 1))\n",
    "attn_weights = F.softmax(attn_weights, dim = 1)\n",
    "attn_applied = torch.bmm(attn_weights.unsqueeze(0), encoder_outputs.unsqueeze(0))\n",
    "input_to_lstm = input_to_lstm_layer(torch.cat((embedded[0], attn_applied[0]), 1))\n",
    "input_to_lstm = input_to_lstm.unsqueeze(0)\n",
    "output, (decoder_hidden,decoder_ct) = lstm(input_to_lstm, (decoder_hidden,decoder_ct))\n",
    "output = F.relu(output)\n",
    "output = F.softmax(output_word_layer(output[0]), dim = 1)\n",
    "top_value, top_index = output.data.topk(1)\n",
    "output_lang.index2word[top_index.item()], attn_weights"
   ]
  },
  {
   "cell_type": "code",
   "execution_count": 54,
   "metadata": {
    "colab": {
     "base_uri": "https://localhost:8080/"
    },
    "id": "ocU-4Z90kkGl",
    "outputId": "9ba9e452-fabc-4022-e3e5-8d2f13704274"
   },
   "outputs": [
    {
     "data": {
      "text/plain": [
       "('soccer',\n",
       " tensor([[0.0408, 0.0974, 0.0516, 0.0746, 0.0863, 0.1366, 0.0982, 0.0747, 0.1881,\n",
       "          0.1517]], device='cuda:0', grad_fn=<SoftmaxBackward>))"
      ]
     },
     "execution_count": 54,
     "metadata": {
      "tags": []
     },
     "output_type": "execute_result"
    }
   ],
   "source": [
    "decoder_input = torch.tensor([[target_indices[2]]], device=device)\n",
    "(decoder_hidden,decoder_ct) = (encoder_hidden,encoder_ct)\n",
    "output_size = output_lang.n_words\n",
    "embedded = embedding(decoder_input)\n",
    "attn_weights = attn_weight_layer(torch.cat((embedded[0], decoder_hidden[0]), 1))\n",
    "attn_weights = F.softmax(attn_weights, dim = 1)\n",
    "attn_applied = torch.bmm(attn_weights.unsqueeze(0), encoder_outputs.unsqueeze(0))\n",
    "input_to_lstm = input_to_lstm_layer(torch.cat((embedded[0], attn_applied[0]), 1))\n",
    "input_to_lstm = input_to_lstm.unsqueeze(0)\n",
    "output, (decoder_hidden,decoder_ct) = lstm(input_to_lstm, (decoder_hidden,decoder_ct))\n",
    "output = F.relu(output)\n",
    "output = F.softmax(output_word_layer(output[0]), dim = 1)\n",
    "top_value, top_index = output.data.topk(1)\n",
    "output_lang.index2word[top_index.item()], attn_weights"
   ]
  },
  {
   "cell_type": "code",
   "execution_count": 55,
   "metadata": {
    "colab": {
     "base_uri": "https://localhost:8080/"
    },
    "id": "b3hD-tbbkmQv",
    "outputId": "acbffbc9-4afe-4398-f281-5cf9f0d3a403"
   },
   "outputs": [
    {
     "data": {
      "text/plain": [
       "[2, 3, 62, 4, 1]"
      ]
     },
     "execution_count": 55,
     "metadata": {
      "tags": []
     },
     "output_type": "execute_result"
    }
   ],
   "source": [
    "target_indices"
   ]
  },
  {
   "cell_type": "code",
   "execution_count": 57,
   "metadata": {
    "colab": {
     "base_uri": "https://localhost:8080/"
    },
    "id": "xqLxt2jCkptF",
    "outputId": "fd3c7b64-0750-4ead-faae-52aa03bd1dec"
   },
   "outputs": [
    {
     "name": "stdout",
     "output_type": "stream",
     "text": [
      "Attention Decoder part With full Teacher forcing\n",
      "\n",
      "\n",
      "Step 0\n",
      "Expected output(word) => i \n",
      "Expected output(Index) => 2 \n",
      "Predicted output(word) => buy \n",
      "Predicted output(Index) => 1888 \n",
      "\n",
      "Step 1\n",
      "Expected output(word) => m \n",
      "Expected output(Index) => 3 \n",
      "Predicted output(word) => better \n",
      "Predicted output(Index) => 89 \n",
      "\n",
      "Step 2\n",
      "Expected output(word) => loyal \n",
      "Expected output(Index) => 62 \n",
      "Predicted output(word) => soccer \n",
      "Predicted output(Index) => 1294 \n",
      "\n",
      "Step 3\n",
      "Expected output(word) => . \n",
      "Expected output(Index) => 4 \n",
      "Predicted output(word) => boat \n",
      "Predicted output(Index) => 1316 \n"
     ]
    }
   ],
   "source": [
    "\n",
    "print(\"Attention Decoder part With full Teacher forcing\\n\")\n",
    "for i in range(4):\n",
    "  print('\\nStep %d'%(i))\n",
    "  print('Expected output(word) => %s '% target_sentence.split(\" \")[i])\n",
    "  print('Expected output(Index) => %d '% target_indices[i])\n",
    "  decoder_input = torch.tensor([[target_indices[i]]], device=device)\n",
    "  (decoder_hidden,decoder_ct) = (encoder_hidden,encoder_ct)\n",
    "  output_size = output_lang.n_words\n",
    "  embedded = embedding(decoder_input)\n",
    "  attn_weights = attn_weight_layer(torch.cat((embedded[0], decoder_hidden[0]), 1))\n",
    "  attn_weights = F.softmax(attn_weights, dim = 1)\n",
    "  attn_applied = torch.bmm(attn_weights.unsqueeze(0), encoder_outputs.unsqueeze(0))\n",
    "  attn_weights_cpu = attn_weights.cpu()\n",
    "  input_to_lstm = input_to_lstm_layer(torch.cat((embedded[0], attn_applied[0]), 1))\n",
    "  input_to_lstm = input_to_lstm.unsqueeze(0)\n",
    "  output, (decoder_hidden,decoder_ct) = lstm(input_to_lstm, (decoder_hidden,decoder_ct))\n",
    "  output = F.relu(output)  \n",
    "  output = F.softmax(output_word_layer(output[0]), dim = 1)\n",
    "  top_value, top_index = output.data.topk(1)\n",
    "  print('Predicted output(word) => %s '% output_lang.index2word[top_index.item()])\n",
    "  print('Predicted output(Index) => %d '% top_index.item())  \n",
    "  # plt.figure(figsize = (10,1))\n",
    "  # seaborn.heatmap(attn_weights_cpu.detach().numpy().reshape(-1, 10), fmt=\".2f\",annot=True, cmap=\"Blues\").set(title=f\"Attention Weights\")\n",
    "  # plt.xticks([])\n",
    "  # plt.yticks([])\n",
    "  # plt.show()\n",
    "  #print(attn_weights)"
   ]
  },
  {
   "cell_type": "code",
   "execution_count": 58,
   "metadata": {
    "colab": {
     "base_uri": "https://localhost:8080/"
    },
    "id": "FTn_T_nLkuj8",
    "outputId": "3fde2761-e8e1-4477-b8c4-cd626d799806"
   },
   "outputs": [
    {
     "data": {
      "text/plain": [
       "([2, 3, 62, 4, 1], 'i m loyal .', 'je suis loyal .')"
      ]
     },
     "execution_count": 58,
     "metadata": {
      "tags": []
     },
     "output_type": "execute_result"
    }
   ],
   "source": [
    "target_indices, target_sentence, input_sentence"
   ]
  },
  {
   "cell_type": "code",
   "execution_count": null,
   "metadata": {
    "id": "K3_3tBcOlFaO"
   },
   "outputs": [],
   "source": []
  }
 ],
 "metadata": {
  "accelerator": "GPU",
  "colab": {
   "name": "Session11.ipynb",
   "provenance": []
  },
  "kernelspec": {
   "display_name": "Python 3",
   "language": "python",
   "name": "python3"
  },
  "language_info": {
   "codemirror_mode": {
    "name": "ipython",
    "version": 3
   },
   "file_extension": ".py",
   "mimetype": "text/x-python",
   "name": "python",
   "nbconvert_exporter": "python",
   "pygments_lexer": "ipython3",
   "version": "3.7.7"
  },
  "toc": {
   "base_numbering": 1,
   "nav_menu": {},
   "number_sections": true,
   "sideBar": true,
   "skip_h1_title": false,
   "title_cell": "Table of Contents",
   "title_sidebar": "Contents",
   "toc_cell": false,
   "toc_position": {},
   "toc_section_display": true,
   "toc_window_display": false
  },
  "varInspector": {
   "cols": {
    "lenName": 16,
    "lenType": 16,
    "lenVar": 40
   },
   "kernels_config": {
    "python": {
     "delete_cmd_postfix": "",
     "delete_cmd_prefix": "del ",
     "library": "var_list.py",
     "varRefreshCmd": "print(var_dic_list())"
    },
    "r": {
     "delete_cmd_postfix": ") ",
     "delete_cmd_prefix": "rm(",
     "library": "var_list.r",
     "varRefreshCmd": "cat(var_dic_list()) "
    }
   },
   "types_to_exclude": [
    "module",
    "function",
    "builtin_function_or_method",
    "instance",
    "_Feature"
   ],
   "window_display": false
  }
 },
 "nbformat": 4,
 "nbformat_minor": 1
}
